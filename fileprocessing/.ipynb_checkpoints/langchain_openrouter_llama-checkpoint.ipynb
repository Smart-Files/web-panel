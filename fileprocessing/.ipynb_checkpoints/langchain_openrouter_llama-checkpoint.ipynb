{
 "cells": [
  {
   "cell_type": "markdown",
   "id": "1cf1c1f3",
   "metadata": {},
   "source": [
    "# Overview\n",
    "\n",
    "**Oftentimes, we want to test some LLMs that are not widely available or are expensive to host. There are various ways to still get your hands dirty with them.**\n",
    "\n",
    "\n",
    "**In this notebook, I'm showing how to use LangChain's CustomLLM together with <a href=\"https://openrouter.ai/\">OpenRouter.ai</a>'s collection of LLMs (like gpt-4-32k, claude-2, and many more) to use these models in your LangChain apps.**"
   ]
  },
  {
   "cell_type": "markdown",
   "id": "06380a21",
   "metadata": {},
   "source": [
    "### <font color='gray'>Loading libraries and variables</font>"
   ]
  },
  {
   "cell_type": "code",
   "execution_count": 3,
   "id": "547144cf",
   "metadata": {},
   "outputs": [
    {
     "data": {
      "text/plain": [
       "True"
      ]
     },
     "execution_count": 3,
     "metadata": {},
     "output_type": "execute_result"
    }
   ],
   "source": [
    "import os\n",
    "import requests, json\n",
    "from dotenv import load_dotenv\n",
    "import re\n",
    "import zipfile\n",
    "import io\n",
    "from langchain_openai import ChatOpenAI\n",
    "from langchain_core.prompts import ChatPromptTemplate\n",
    "from typing import Any, List, Mapping, Optional\n",
    "from langchain.callbacks.manager import CallbackManagerForLLMRun\n",
    "from langchain.llms.base import LLM\n",
    "from langchain_core.output_parsers import StrOutputParser\n",
    "\n",
    "output_parser = StrOutputParser()\n",
    "load_dotenv()"
   ]
  },
  {
   "cell_type": "code",
   "execution_count": 18,
   "id": "b351134a-3d15-46e2-bf56-72fa649f0252",
   "metadata": {},
   "outputs": [],
   "source": [
    "API_KEY = os.getenv('OPENROUTER_API_KEY')\n",
    "\n",
    "MODEL_CODELLAMA = \"phind/phind-codellama-34b\"\n",
    "MODEL_LLAMA3 = \"meta-llama/llama-3-70b-instruct\"\n",
    "MODEL_MIXTRAL = \"mistralai/mixtral-8x22b-instruct\""
   ]
  },
  {
   "cell_type": "markdown",
   "id": "c38a7851",
   "metadata": {},
   "source": [
    "# Setting up LLM"
   ]
  },
  {
   "cell_type": "code",
   "execution_count": 19,
   "id": "0958ec7d",
   "metadata": {},
   "outputs": [],
   "source": [
    "# Initliaze models\n",
    "llm_llama3 = ChatOpenAI(openai_api_key=API_KEY, openai_api_base=\"https://openrouter.ai/api/v1\", model_name=MODEL_LLAMA3)\n",
    "llm_codellama = ChatOpenAI(openai_api_key=API_KEY, openai_api_base=\"https://openrouter.ai/api/v1\", model_name=MODEL_CODELLAMA)\n",
    "llm_mixtral = ChatOpenAI(openai_api_key=API_KEY, openai_api_base=\"https://openrouter.ai/api/v1\", model_name=MODEL_MIXTRAL)"
   ]
  },
  {
   "cell_type": "code",
   "execution_count": 20,
   "id": "3b9f39a7-e321-410a-8e3f-8aeb5d58d99b",
   "metadata": {},
   "outputs": [],
   "source": [
    "def get_zip_structure(zip_file_path):\n",
    "    with zipfile.ZipFile(zip_file_path, 'r') as zip_ref:\n",
    "        zip_structure = io.StringIO()\n",
    "        zip_ref.printdir(file=zip_structure)\n",
    "        structure_text = zip_structure.getvalue().strip()\n",
    "    return structure_text"
   ]
  },
  {
   "cell_type": "code",
   "execution_count": 21,
   "id": "fdf32836-59df-4984-b514-7bb9dc7aec1c",
   "metadata": {},
   "outputs": [],
   "source": [
    "INSTRUCT_WRAP_CODE = \"\\nWrap your code in ```python\\n{CODE}\\n```\""
   ]
  },
  {
   "cell_type": "code",
   "execution_count": 26,
   "id": "9b366016",
   "metadata": {},
   "outputs": [
    {
     "name": "stdout",
     "output_type": "stream",
     "text": [
      "\n",
      "# Step 1: Install Required Libraries (This is to be done in the terminal, not in the Python script)\n",
      "# pip install PyPDF2\n",
      "# pip install pdftotext\n",
      "\n",
      "# Step 2: Import Necessary Libraries\n",
      "import PyPDF2\n",
      "import pdftotext\n",
      "\n",
      "# Step 3: Read the PDF File\n",
      "with open(\"resume.pdf\", \"rb\") as f:\n",
      "    pdf = pdftotext.PDF(f)\n",
      "\n",
      "# Step 4: Convert PDF to Text\n",
      "pdf_text = \"\\n\\n\".join(pdf)\n",
      "\n",
      "# Step 5: Replace Text\n",
      "new_text = pdf_text.replace('hi', 'hello')\n",
      "\n",
      "# Step 6: Write Text Back to PDF\n",
      "pdf_writer = PyPDF2.PdfFileWriter()\n",
      "\n",
      "pdf_reader = PyPDF2.PdfFileReader(\"resume.pdf\")\n",
      "\n",
      "for page in range(pdf_reader.getNumPages()):\n",
      "    pdf_page = pdf_reader.getPage(page)\n",
      "    pdf_page.mergePage(PyPDF2.pdf.ContentStream(new_text, pdf_reader, compress=False))\n",
      "    pdf_writer.addPage(pdf_page)\n",
      "\n",
      "with open('new_resume.pdf', 'wb') as f:\n",
      "    pdf_writer.write(f)\n",
      "\n"
     ]
    }
   ],
   "source": [
    "input = \"In this PDF file, replace all occurrences of 'hi' with 'hello'\"\n",
    "\n",
    "# input = \"Convert the images in this zip file to a pdf by adding all images contained within to the PDF. Make sure to pay attention to the structure inside the zip file to make sure all code correctly handles the zipfile.\"\n",
    "\n",
    "file = \"resume.pdf\"\n",
    "\n",
    "# Generate detailed prompt from simple user prompt\n",
    "template_prompt = ChatPromptTemplate.from_messages([\n",
    "    (\"system\", \"\"\"You are a helpful prompting assistant.\\\n",
    "    You must write instructions for creating a python script for completing the below user prompt.\\\n",
    "    Your job is to expand on the instructions below to make sure there is a defined plan of execution.\"\"\"),\n",
    "    (\"user\", \"User Prompt: {input}\\nFile: {file}\\n\")\n",
    "])\n",
    "\n",
    "template_code = ChatPromptTemplate.from_messages([\n",
    "    (\"system\", \"You are a helpful coding assistant. Write code based on the instructions with redundancy for errors.\"),\n",
    "    (\"user\", \"Instructions: {input}\\nFile: {file}\")\n",
    "])\n",
    "\n",
    "# file_contents = \"\\nContents of unzipped file:\\n\" + get_zip_structure(file)\n",
    "\n",
    "\n",
    "def gen_content(llm_prompt, llm_code):\n",
    "    prompt_chain = template_prompt | llm_prompt | output_parser\n",
    "    \n",
    "    code_chain = template_code | llm_code | output_parser\n",
    "    \n",
    "    prompt_output = prompt_chain.invoke({\"input\": input, \"file\": file})\n",
    "    \n",
    "    prompt_output += INSTRUCT_WRAP_CODE\n",
    "    \n",
    "    code_output = code_chain.invoke({\"input\": prompt_output, \"file\": file})\n",
    "    \n",
    "    python_code = re.search(r'```python(?s:(.*?))```', code_output).group(1)\n",
    "    \n",
    "    print(python_code)\n",
    "\n",
    "gen_content(llm_mixtral, llm_mixtral)\n",
    "# gen_content(llm_codellama, llm_codellama)\n",
    "# gen_content(llm_wizard22, llm_wizard22)"
   ]
  },
  {
   "cell_type": "code",
   "execution_count": 23,
   "id": "53bf2e68-1462-4ac6-8c80-96040de3d7e5",
   "metadata": {
    "scrolled": true
   },
   "outputs": [
    {
     "ename": "NameError",
     "evalue": "name 'prompt_output' is not defined",
     "output_type": "error",
     "traceback": [
      "\u001b[0;31m---------------------------------------------------------------------------\u001b[0m",
      "\u001b[0;31mNameError\u001b[0m                                 Traceback (most recent call last)",
      "Cell \u001b[0;32mIn[23], line 1\u001b[0m\n\u001b[0;32m----> 1\u001b[0m \u001b[38;5;28mprint\u001b[39m(\u001b[43mprompt_output\u001b[49m)\n\u001b[1;32m      2\u001b[0m \u001b[38;5;28mprint\u001b[39m(code_output)\n",
      "\u001b[0;31mNameError\u001b[0m: name 'prompt_output' is not defined"
     ]
    }
   ],
   "source": [
    "print(prompt_output)\n",
    "print(code_output)"
   ]
  },
  {
   "cell_type": "code",
   "execution_count": 13,
   "id": "043dbff5-efaf-40ba-a077-9b00c7b2d69a",
   "metadata": {},
   "outputs": [],
   "source": [
    "# Step 1: Install Required Libraries (This is to be done in the terminal, not in the Python script)\n",
    "# pip install PyPDF2\n",
    "# pip install pdftotext\n",
    "\n",
    "# Step 2: Import Necessary Libraries\n",
    "import PyPDF2\n",
    "import pdftotext\n",
    "\n",
    "# Step 3: Read the PDF File\n",
    "with open(\"resume.pdf\", \"rb\") as f:\n",
    "    pdf = pdftotext.PDF(f)\n",
    "\n",
    "# Step 4: Convert PDF to Text\n",
    "pdf_text = \"\\n\\n\".join(pdf)\n",
    "\n",
    "# Step 5: Replace Text\n",
    "new_text = pdf_text.replace('hi', 'hello')\n",
    "\n",
    "# Step 6: Write Text Back to PDF\n",
    "pdf_writer = PyPDF2.PdfFileWriter()\n",
    "\n",
    "pdf_reader = PyPDF2.PdfFileReader(\"resume.pdf\")\n",
    "\n",
    "for page in range(pdf_reader.getNumPages()):\n",
    "    pdf_page = pdf_reader.getPage(page)\n",
    "    pdf_page.mergePage(PyPDF2.pdf.ContentStream(new_text, pdf_reader, compress=False))\n",
    "    pdf_writer.addPage(pdf_page)\n",
    "\n",
    "with open('new_resume.pdf', 'wb') as f:\n",
    "    pdf_writer.write(f)"
   ]
  },
  {
   "cell_type": "code",
   "execution_count": null,
   "id": "346c8caf-bbe9-4065-b5ae-82e20331c5a0",
   "metadata": {},
   "outputs": [],
   "source": []
  }
 ],
 "metadata": {
  "kernelspec": {
   "display_name": "Python 3 (ipykernel)",
   "language": "python",
   "name": "python3"
  },
  "language_info": {
   "codemirror_mode": {
    "name": "ipython",
    "version": 3
   },
   "file_extension": ".py",
   "mimetype": "text/x-python",
   "name": "python",
   "nbconvert_exporter": "python",
   "pygments_lexer": "ipython3",
   "version": "3.11.3"
  }
 },
 "nbformat": 4,
 "nbformat_minor": 5
}
